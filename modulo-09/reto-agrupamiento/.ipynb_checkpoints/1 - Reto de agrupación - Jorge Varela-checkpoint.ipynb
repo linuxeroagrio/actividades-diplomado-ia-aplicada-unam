{
 "cells": [
  {
   "cell_type": "markdown",
   "id": "50f084ee-fa49-4fcf-b113-a53be790333e",
   "metadata": {},
   "source": [
    "# Reto de Agrupación"
   ]
  },
  {
   "cell_type": "markdown",
   "id": "e667bae6-7fce-44f9-aaf5-c7511475959d",
   "metadata": {},
   "source": [
    "## Justificación:\n",
    "\n",
    "*Algoritmo Seleccionado*: K-Means\n",
    "\n",
    "*Justificación*:\n",
    "- Simple y razonablemente rápido\n",
    "- Es posible seleccionar el número de grupos\n",
    "- Aunque es sensible a la inicialización y las fronteras, si se tiene una selección de datos adecuada, los resultados generalmente son buenos"
   ]
  },
  {
   "cell_type": "markdown",
   "id": "2e89732f-ffe1-4cab-9f0e-358a310ed40b",
   "metadata": {},
   "source": [
    "## Instalación de dependencias\n",
    "Dependiendo del entorno de ejecución, es necesario instalar las bibliotecas necesarias para la ejecución del notebook. Según sea el caso, comentar o dejar intactas las líneas siguientes"
   ]
  },
  {
   "cell_type": "code",
   "execution_count": 1,
   "id": "3c191ac5-ea6d-4ca0-b00d-f9ab3f6973df",
   "metadata": {},
   "outputs": [
    {
     "name": "stdout",
     "output_type": "stream",
     "text": [
      "Requirement already satisfied: scikit-learn in /opt/conda/lib/python3.11/site-packages (1.5.0)\n",
      "Requirement already satisfied: numpy>=1.19.5 in /opt/conda/lib/python3.11/site-packages (from scikit-learn) (1.26.4)\n",
      "Requirement already satisfied: scipy>=1.6.0 in /opt/conda/lib/python3.11/site-packages (from scikit-learn) (1.13.1)\n",
      "Requirement already satisfied: joblib>=1.2.0 in /opt/conda/lib/python3.11/site-packages (from scikit-learn) (1.4.2)\n",
      "Requirement already satisfied: threadpoolctl>=3.1.0 in /opt/conda/lib/python3.11/site-packages (from scikit-learn) (3.5.0)\n",
      "Requirement already satisfied: opencv-contrib-python in /opt/conda/lib/python3.11/site-packages (4.10.0.82)\n",
      "Requirement already satisfied: numpy>=1.21.2 in /opt/conda/lib/python3.11/site-packages (from opencv-contrib-python) (1.26.4)\n"
     ]
    }
   ],
   "source": [
    "!pip install -U scikit-learn\n",
    "!pip install -U opencv-contrib-python"
   ]
  },
  {
   "cell_type": "markdown",
   "id": "9bf8e46b-ad6d-4d36-b160-f569d8095f33",
   "metadata": {},
   "source": [
    "## Importar Bibliotecas a utilizar"
   ]
  },
  {
   "cell_type": "code",
   "execution_count": 3,
   "id": "161fa268-54e2-438d-b794-ffb34f89c3f6",
   "metadata": {},
   "outputs": [],
   "source": [
    "from crea_tabla import *"
   ]
  },
  {
   "cell_type": "markdown",
   "id": "8761bc33-1614-4cac-8d2a-127802e73c06",
   "metadata": {},
   "source": [
    "## Carga de la fuente de datos"
   ]
  },
  {
   "cell_type": "code",
   "execution_count": 4,
   "id": "0423b9c1-0d7f-4da8-bdbc-66ba3b51b605",
   "metadata": {},
   "outputs": [
    {
     "name": "stdout",
     "output_type": "stream",
     "text": [
      "Leyendo numpy...\n",
      "No se pudo abrir ./Deformable-Objects-Dataset/Press/sponge_centre_100.avi\n",
      "Error al leer los datos de  sponge1\n"
     ]
    },
    {
     "ename": "TypeError",
     "evalue": "cannot unpack non-iterable NoneType object",
     "output_type": "error",
     "traceback": [
      "\u001b[0;31m---------------------------------------------------------------------------\u001b[0m",
      "\u001b[0;31mTypeError\u001b[0m                                 Traceback (most recent call last)",
      "Cell \u001b[0;32mIn[4], line 1\u001b[0m\n\u001b[0;32m----> 1\u001b[0m datos_1, originales \u001b[38;5;241m=\u001b[39m obtén_tabla_datos()\n\u001b[1;32m      2\u001b[0m datos_1\u001b[38;5;241m.\u001b[39mhead\n",
      "\u001b[0;31mTypeError\u001b[0m: cannot unpack non-iterable NoneType object"
     ]
    }
   ],
   "source": [
    "datos_1, originales = obtén_tabla_datos()\n",
    "datos_1.head"
   ]
  },
  {
   "cell_type": "code",
   "execution_count": null,
   "id": "9c878bd9-17fc-4143-a5e5-eeb04ccd4ae1",
   "metadata": {},
   "outputs": [],
   "source": []
  }
 ],
 "metadata": {
  "kernelspec": {
   "display_name": "Python 3 (ipykernel)",
   "language": "python",
   "name": "python3"
  },
  "language_info": {
   "codemirror_mode": {
    "name": "ipython",
    "version": 3
   },
   "file_extension": ".py",
   "mimetype": "text/x-python",
   "name": "python",
   "nbconvert_exporter": "python",
   "pygments_lexer": "ipython3",
   "version": "3.11.9"
  }
 },
 "nbformat": 4,
 "nbformat_minor": 5
}
